{
  "nbformat": 4,
  "nbformat_minor": 0,
  "metadata": {
    "colab": {
      "name": "Lab_6_Camera_Calibration",
      "provenance": [],
      "collapsed_sections": []
    },
    "kernelspec": {
      "name": "python3",
      "display_name": "Python 3"
    }
  },
  "cells": [
    {
      "cell_type": "markdown",
      "metadata": {
        "id": "XYJf1I4JrZlT",
        "colab_type": "text"
      },
      "source": [
        "# Camera Calibration\n",
        "\n",
        "This is a lab on Camera Calibration in CE6003. You should complete the tasks in this lab as part of the Camera Calibration section of the module.\n",
        "\n",
        "The lab demonstrates the use of OpenCV for calibrating a camera to handle and remove such effects as:\n",
        "\n",
        "* radial distortion (pincushion, and barrel);\n",
        "* tangential distortion.\n",
        "\n",
        "First, if we haven't already done so, we need to clone the various images and resources needed to run these labs into our workspace.  \n",
        "\n",
        "Note: If you have already run the following step within the session of the runtime, you will see an error of the form `fatal: destination path 'CE6003' already exists and is not an empty directory.` which you can safely ignore."
      ]
    },
    {
      "cell_type": "code",
      "metadata": {
        "id": "s5OFwZiWxdcM",
        "colab_type": "code",
        "colab": {}
      },
      "source": [
        "!git clone https://github.com/EmdaloTechnologies/CE6003.git"
      ],
      "execution_count": 0,
      "outputs": []
    },
    {
      "cell_type": "markdown",
      "metadata": {
        "id": "4djiRyqzxdlp",
        "colab_type": "text"
      },
      "source": [
        "Next, let's load OpenCV and some other helper libraries into our Python runtime."
      ]
    },
    {
      "cell_type": "code",
      "metadata": {
        "id": "3FO1u_ByUWqy",
        "colab_type": "code",
        "colab": {}
      },
      "source": [
        "import numpy as np\n",
        "import cv2\n",
        "import glob\n",
        "import os\n",
        "\n",
        "\n",
        "%matplotlib inline\n",
        "import matplotlib.pyplot as plt\n",
        "plt.style.use('seaborn-white')"
      ],
      "execution_count": 0,
      "outputs": []
    },
    {
      "cell_type": "markdown",
      "metadata": {
        "id": "CV3dhzZFyJzO",
        "colab_type": "text"
      },
      "source": [
        "Our repo contains some same chessboard images (uncorrected) that come with OpenCV as sample images."
      ]
    },
    {
      "cell_type": "code",
      "metadata": {
        "id": "WRyFAVg-x2sD",
        "colab_type": "code",
        "colab": {}
      },
      "source": [
        "!ls CE6003/images/lab6\n",
        "\n",
        "imagesPath = 'CE6003/images/lab6'\n",
        "images = glob.glob(os.path.join(imagesPath, '*.jpg'))"
      ],
      "execution_count": 0,
      "outputs": []
    },
    {
      "cell_type": "markdown",
      "metadata": {
        "id": "jGjP8kXK7yyL",
        "colab_type": "text"
      },
      "source": [
        "Let's take a look at our sample chessboard images from OpenCV."
      ]
    },
    {
      "cell_type": "code",
      "metadata": {
        "id": "y4I0qNRU4Dzk",
        "colab_type": "code",
        "colab": {}
      },
      "source": [
        "plt.figure(num=None, dpi=240)\n",
        "\n",
        "numImages = len(images)\n",
        "\n",
        "maxCols = 4\n",
        "maxRows = int((numImages + maxCols - 1) / maxCols)\n",
        "\n",
        "index=0\n",
        "for fname in images:\n",
        "  img = cv2.imread(fname)\n",
        "  plt.subplot(maxRows, maxCols, index+1)\n",
        "  index+=1\n",
        "\n",
        "  fig = plt.imshow(img)\n",
        "  fig.axes.get_xaxis().set_visible(False)\n",
        "  fig.axes.get_yaxis().set_visible(False)\n",
        "\n"
      ],
      "execution_count": 0,
      "outputs": []
    },
    {
      "cell_type": "markdown",
      "metadata": {
        "id": "ja7cByKR74-q",
        "colab_type": "text"
      },
      "source": [
        "You can see that they all have warped lines, and are all slighty distorted. Okay, we need to setup a few variables for further processing."
      ]
    },
    {
      "cell_type": "code",
      "metadata": {
        "id": "HW2ZttQvq78Q",
        "colab_type": "code",
        "colab": {}
      },
      "source": [
        "# prepare object points\n",
        "nx = 7 #number of inside corners in x\n",
        "ny = 6 #number of inside corners in y\n",
        "criteria = (cv2.TERM_CRITERIA_EPS + cv2.TERM_CRITERIA_MAX_ITER, 30, 0.001)\n",
        "\n",
        "objp = np.zeros((nx*ny,3), np.float32)\n",
        "objp[:,:2] = np.mgrid[0:nx,0:ny].T.reshape(-1,2)\n",
        "\n",
        "objpoints = []\n",
        "imgpoints = []"
      ],
      "execution_count": 0,
      "outputs": []
    },
    {
      "cell_type": "markdown",
      "metadata": {
        "id": "2trIlx5nyDPz",
        "colab_type": "text"
      },
      "source": [
        "Next, for each image, we'll process it and use it to calibrate the camera.\n",
        "\n",
        "OpenCV has functions specifically to find the corners for chessboards, and also to draw these corners, which we'll make sure of."
      ]
    },
    {
      "cell_type": "code",
      "metadata": {
        "id": "GRQjUsTdrvSJ",
        "colab_type": "code",
        "colab": {}
      },
      "source": [
        "plt.figure(num=None, dpi=240)\n",
        "index=0\n",
        "\n",
        "for fname in images:\n",
        "  print(\"Finding chessboard corners in image\", fname)\n",
        "  img = cv2.imread(fname)\n",
        "  gray = cv2.cvtColor(img, cv2.COLOR_BGR2GRAY)\n",
        "\n",
        "  ret, corners = cv2.findChessboardCorners(gray, (nx, ny), None)\n",
        "\n",
        "  if ret == True:\n",
        "    objpoints.append(objp)\n",
        "\n",
        "    corners2 = cv2.cornerSubPix(gray, corners, (11, 11), (-1, -1), criteria)\n",
        "    imgpoints.append(corners2)\n",
        "\n",
        "    img = cv2.drawChessboardCorners(img, (nx, ny), corners2, ret)\n",
        "    plt.subplot(maxRows, maxCols, index+1)\n",
        "    index+=1\n",
        "\n",
        "    fig = plt.imshow(img)\n",
        "    fig.axes.get_xaxis().set_visible(False)\n",
        "    fig.axes.get_yaxis().set_visible(False)\n",
        "\n",
        "ret, cameraMatrix, distCoefficients, rVectors, tVectors = cv2.calibrateCamera(objpoints, imgpoints, gray.shape[::-1], None, None)\n",
        "print('\\nThe camera is now calibrated')\n"
      ],
      "execution_count": 0,
      "outputs": []
    },
    {
      "cell_type": "markdown",
      "metadata": {
        "id": "nyuZS1O6y4if",
        "colab_type": "text"
      },
      "source": [
        "Now, let's pick one of those images, and see how it gets corrected. Of course, we could use any image taken with the same camera - it doesn't have to be one of our sample images... But for the sake of convenience here, we'll look at `left12.jpg` ...\n",
        "\n",
        "OpenCV specifically uses the camera matrix and the distortion coefficients to correct for camera aberrations in the image."
      ]
    },
    {
      "cell_type": "code",
      "metadata": {
        "id": "fHwWDPcRzB3B",
        "colab_type": "code",
        "colab": {}
      },
      "source": [
        "img = cv2.imread(os.path.join(imagesPath,'left12.jpg'))\n",
        "h, w = img.shape[:2]\n",
        "newCameraMatrix, roi=cv2.getOptimalNewCameraMatrix(cameraMatrix, distCoefficients, (w, h), 1, (w, h))\n",
        "\n",
        "undistortedImg = cv2.undistort(img, cameraMatrix, distCoefficients, None, newCameraMatrix)\n",
        "x, y, w, h = roi\n",
        "undistortedImg = undistortedImg[y:y+h, x:x+w]\n",
        "\n",
        "plt.figure(dpi=240)\n",
        "plt.subplot(1,2,1)\n",
        "plt.title(\"Raw Chessboard Corners\")\n",
        "fig = plt.imshow(img)\n",
        "fig.axes.get_xaxis().set_visible(False)\n",
        "fig.axes.get_yaxis().set_visible(False)\n",
        "\n",
        "plt.subplot(1,2,2)\n",
        "plt.title(\"Corrected Chessboard Corners\")\n",
        "fig = plt.imshow(undistortedImg)\n",
        "fig.axes.get_xaxis().set_visible(False)\n",
        "fig.axes.get_yaxis().set_visible(False)\n"
      ],
      "execution_count": 0,
      "outputs": []
    },
    {
      "cell_type": "markdown",
      "metadata": {
        "id": "21pIbe3E8hq8",
        "colab_type": "text"
      },
      "source": [
        "The corrected image looks much better. The lines are straight, and we have none of the barrel distortion we had in the original image. \n",
        "\n",
        "If we had other images from the same camera, we could now easily correct them for distortions."
      ]
    }
  ]
}