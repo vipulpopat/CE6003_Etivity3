{
  "nbformat": 4,
  "nbformat_minor": 0,
  "metadata": {
    "colab": {
      "name": "18203477_Lab_7_2_exercise_KalmanFilter.ipynb",
      "provenance": [],
      "collapsed_sections": []
    },
    "kernelspec": {
      "name": "python3",
      "display_name": "Python 3"
    }
  },
  "cells": [
    {
      "cell_type": "markdown",
      "metadata": {
        "id": "glA3NV9MRl63",
        "colab_type": "text"
      },
      "source": [
        "# Kalman Filter - Lab 7.2 Exercise\n",
        "\n",
        "## Recap\n",
        "We have seen how the kalman filter can be applied for object tracking.\n",
        "It is recommended that you complete this exercise and then review lab7_2 once your understanding is improved. \n",
        "\n",
        "In this exercise we will used the kalman filter to predict the track of a cannonball. We will using the same kalman filter code block from the the previous lab. but in this case we will setup the problem and intialise the required matrices ourseleves before passing them to the Kalman filter. The problem is straightfoward to set up and uses the same equations of motion as shown in the videos and notes. A very useful reference that summarises the equations and  that will help you compelete this excercise is \n",
        "http://greg.czerniak.info/guides/kalman1/\n",
        "\n",
        "The purpose of this exercise is to improve your understanding of how the Kalman Filter works. \n",
        "\n"
      ]
    },
    {
      "cell_type": "code",
      "metadata": {
        "id": "qWvUXFH1iaoJ",
        "colab_type": "code",
        "colab": {}
      },
      "source": [
        "import os\n",
        "import re\n",
        "import io\n",
        "import cv2\n",
        "import time\n",
        "import base64\n",
        "import math\n",
        "import numpy as np\n",
        "import matplotlib.pyplot as plt\n",
        "from IPython.display import clear_output, Image, display\n",
        "\n"
      ],
      "execution_count": 0,
      "outputs": []
    },
    {
      "cell_type": "markdown",
      "metadata": {
        "id": "XsQyMnFpZBUP",
        "colab_type": "text"
      },
      "source": [
        "**Define Noisy Model to Generate Measurements**\n",
        "\n",
        "A simple model of a cannonball is used to generate noisy measurements that we can supply to the kalman filter. This replaces the object centres from the Lab_7_2. The measurements include a noisy measurement of position and another measurment (with a different noise level) for velocity. "
      ]
    },
    {
      "cell_type": "code",
      "metadata": {
        "id": "pV3xZTr4euql",
        "colab_type": "code",
        "colab": {
          "base_uri": "https://localhost:8080/",
          "height": 421
        },
        "outputId": "d58d6f8a-ab63-422b-cb45-355c7405c8af"
      },
      "source": [
        "# Simple cannon ball model that generates a series of noise measurements at each time step.\n",
        "\n",
        "dt  = 0.025 # Time step.\n",
        "t_end = 1.72   # Final time\n",
        "t_steps = int(t_end/dt) #Number of time steps required\n",
        "v_o  = 10 # Intial velocity m/s\n",
        "theta = 45 # Launch angle\n",
        "g = 9.81   #Graviational acceleration m/s2\n",
        "sigma = 0.2 # Position noise\n",
        "sigma2 = 0.1 # Velocity nois\n",
        "\n",
        "def cannonball_model(v_o):\n",
        "   v_ox = v_o*math.cos(theta) # x direction starting velocity.\n",
        "   v_oy = v_o*math.sin(theta) # y direction starting velocity.\n",
        "   x0 = 0\n",
        "   y0 = 0\n",
        "   xpos = np.array([])\n",
        "   v_x = np.array([])\n",
        "   ypos = np.array([])\n",
        "   v_y = np.array([])\n",
        "\n",
        "   for steps in range(t_steps):\n",
        "      t = steps*dt\n",
        "      # Calculate x equations of motion in x direction\n",
        "      x = x0 + v_ox*t + np.random.normal(0,sigma)\n",
        "      xpos=np.append(xpos,x)  \n",
        "      v_xt = v_ox + np.random.normal(0,sigma2)\n",
        "\n",
        "      v_x = np.append(v_x,v_xt)\n",
        "      # Calculate equations of motion in y direction\n",
        "      y = y0 + v_oy*t-0.5*g*(t**2) + np.random.normal(0,sigma)\n",
        "      v_yt = v_oy-g*t+np.random.normal(0,sigma2)\n",
        "      ypos=np.append(ypos,y)  \n",
        "      v_y = np.append(v_y,v_yt)\n",
        "\n",
        "   return xpos,ypos,v_x,v_y\n",
        "     \n",
        "xpos,ypos,v_x,v_y=cannonball_model(v_o)\n",
        "\n",
        "# Stitch these model outputs into one matrix of measurements z\n",
        "z_all= np.concatenate((xpos,v_x,ypos,v_y)).reshape(4,len(xpos))\n",
        "\n",
        "# Plot the trajectory with noise.\n",
        "plt.figure(figsize=(6,6))\n",
        "plt.plot(xpos, ypos, '*')\n",
        "plt.xlabel('x distance travelled m')\n",
        "plt.ylabel('y distance travelled m')\n",
        "plt.title('Obtained Position Measurements')\n",
        "plt.plot()"
      ],
      "execution_count": 2,
      "outputs": [
        {
          "output_type": "execute_result",
          "data": {
            "text/plain": [
              "[]"
            ]
          },
          "metadata": {
            "tags": []
          },
          "execution_count": 2
        },
        {
          "output_type": "display_data",
          "data": {
            "image/png": "[encoded data removed]",
            "text/plain": [
              "<Figure size 432x432 with 1 Axes>"
            ]
          },
          "metadata": {
            "tags": []
          }
        }
      ]
    },
    {
      "cell_type": "markdown",
      "metadata": {
        "id": "FBf4YwqBDmgh",
        "colab_type": "text"
      },
      "source": [
        "**Kalman Model**"
      ]
    },
    {
      "cell_type": "code",
      "metadata": {
        "id": "Cn7nKwdli4e9",
        "colab_type": "code",
        "colab": {}
      },
      "source": [
        "def kalman(x, P, z, R, u, Q, A, B, H):\n",
        "    '''\n",
        "    Dynamic Parameters\n",
        "    x: state\n",
        "    P: state uncertainty covariance\n",
        "    measurement: measurement\n",
        "    R: measurement noise\n",
        "\n",
        "    return:\n",
        "        updated and predicted new values for (x, P)\n",
        "    '''\n",
        "\n",
        "    # Update Step\n",
        "    # Update x and P based on measurement m\n",
        "    # distance between measured and current position-belief\n",
        "    y = np.matrix(z).T - H * x\n",
        "   \n",
        "    S = H * P * H.T + R\n",
        "    K = P * H.T * S.I\n",
        "    x = x + K * y\n",
        "    I = np.matrix(np.eye(A.shape[0]))\n",
        "    P = (I - K*H)*P\n",
        "\n",
        "    # Predict Step\n",
        "    # Predict x and P based on motion\n",
        "    x = A*x + B*u\n",
        "    P = A*P*A.T + Q\n",
        "\n",
        "    return x, P\n"
      ],
      "execution_count": 0,
      "outputs": []
    },
    {
      "cell_type": "markdown",
      "metadata": {
        "id": "HI7VOAGWDtqk",
        "colab_type": "text"
      },
      "source": [
        "**Initialise Matrices**\n",
        "Take a look at the section \"Multi Variable\" example in http://greg.czerniak.info/guides/kalman1/ to see how to initialise the required matrices.\n",
        "Note 1: The matrices are entered using the numpy matrix command which allows a string of values to be converted to a numpy array E.g.\n",
        "\n",
        "    my_matrix=np.matrix('''\n",
        "        1. 0. 0. 0.;\n",
        "        0. 1. 0. 0.;\n",
        "        0. 0. 1. 0.;\n",
        "        0. 0. 0. 1. \n",
        "        ''')\n",
        "\n",
        "Some matrices my need to initialised as a column, a row can be converted to a column with a Transpose operation with np.matrix\n",
        "\n",
        "my_other_matrix = np.matrix('0.0 0.0 0. 0.').T\n",
        "\n",
        "Note 2: you need to place values rather than symbolic expressions into the matrix"
      ]
    },
    {
      "cell_type": "code",
      "metadata": {
        "id": "56tX2yoKlFiS",
        "colab_type": "code",
        "colab": {}
      },
      "source": [
        "def initialise_matrices():\n",
        "\n",
        "    # Initialise matrix state transition matrix A and state control matrix B\n",
        "  A= np.matrix([[1,dt,0,0],[0,1,0,0],[0,0,1,dt],[0,0,0,1]])\n",
        "\n",
        "  B = np.matrix([[0,0,0,0],[0,0,0,0],[0,0,1,0],[0,0,0,1]])\n",
        "\n",
        "    # Initialise state vector x (x_pos, x_v, y_pos, y_v)  (Is a column)\n",
        "    x = np.matrix('0. 0. 0. 0.').T\n",
        "\n",
        "\n",
        "    # Initialise the control matrix u (Is a column)\n",
        "    u=np.matrix(np.eye(4))\n",
        "\n",
        "\n",
        "\n",
        "    # Initialise prediction covariance matrix P\n",
        "    P = np.matrix(np.eye(4))*0.2\n",
        "\n",
        "    # Setup observation matrix H (This links state vectors to measurement)\n",
        "    # Observation Model matrix, assuming we can only measure \n",
        "    # the co-ordinates x, y\n",
        "        H=np.matrix('''\n",
        "            1. 0. 0. 0.;\n",
        "            0. 1. 0. 0.\n",
        "            '''))\n",
        "        \n",
        "    # Set process noise covariance matrix Q \n",
        "  Q=np.matrix(np.eye(4))\n",
        "\n",
        "    # Set measurement noise covariance matrix R\n",
        "  R=10*np.matrix(np.eye(4))\n",
        "\n",
        "    return(A,B,x,u,P,Q,R,H) \n"
      ],
      "execution_count": 0,
      "outputs": []
    },
    {
      "cell_type": "markdown",
      "metadata": {
        "id": "jQayUx2XEmnf",
        "colab_type": "text"
      },
      "source": [
        "**Run Kalman Filter**\n",
        "The measurements obtained from the simple cannonball model as supplied to the model along with initialised values from the previous cell.\n",
        "\n"
      ]
    },
    {
      "cell_type": "code",
      "metadata": {
        "id": "79MbAElfViwe",
        "colab_type": "code",
        "colab": {
          "base_uri": "https://localhost:8080/",
          "height": 317
        },
        "outputId": "faa52d9c-2d57-46da-ea9e-5d587c26c177"
      },
      "source": [
        "# Reinitialise the matrices/varaibles\n",
        "A,B,x,u,P,Q,R,H = initialise_matrices()\n",
        "\n",
        "# Create arrays to store kalman estimates\n",
        "xpos_est = np.array([])\n",
        "v_x_est = np.array([])\n",
        "ypos_est = np.array([])\n",
        "v_y_est = np.array([])\n",
        "\n",
        "print(t_steps)\n",
        "# Get Kalman Updates.\n",
        "for i in range(t_steps):\n",
        "   # Input meaurements taken from model sequentially into z vector\n",
        "   z = z_all[:,i]\n",
        "   #print(np.shape(z))\n",
        "   x, P = kalman(x, P, z, R, u, Q, A, B, H)\n",
        "\n",
        "   xpos_est=np.append(xpos_est,x[0])\n",
        "   v_x_est=np.append(v_x_est,x[1])\n",
        "   ypos_est=np.append(ypos_est,x[2])\n",
        "   v_y_est=np.append(v_y_est,x[3])\n",
        "\n",
        "\n",
        "plt.figure(figsize=(6,6))\n",
        "# Plot earlier noisy estimate\n",
        "plt.plot(xpos, ypos,'b*')\n",
        "# Plot kalman smoothed estimate\n",
        "plt.plot(xpos_est, ypos_est,'r*')\n",
        "plt.xlabel('x distance travelled m')\n",
        "plt.ylabel('y distance travelled m')\n",
        "plt.title('Obtained Position Measurements/Kalman Smoothed Measurements')\n",
        "plt.show()\n"
      ],
      "execution_count": 5,
      "outputs": [
        {
          "output_type": "error",
          "ename": "NameError",
          "evalue": "ignored",
          "traceback": [
            "\u001b[0;31m---------------------------------------------------------------------------\u001b[0m",
            "\u001b[0;31mNameError\u001b[0m                                 Traceback (most recent call last)",
            "\u001b[0;32m<ipython-input-5-4c2a3be5aa77>\u001b[0m in \u001b[0;36m<module>\u001b[0;34m()\u001b[0m\n\u001b[0;32m----> 1\u001b[0;31m \u001b[0mA\u001b[0m\u001b[0;34m,\u001b[0m\u001b[0mB\u001b[0m\u001b[0;34m,\u001b[0m\u001b[0mx\u001b[0m\u001b[0;34m,\u001b[0m\u001b[0mu\u001b[0m\u001b[0;34m,\u001b[0m\u001b[0mP\u001b[0m\u001b[0;34m,\u001b[0m\u001b[0mQ\u001b[0m\u001b[0;34m,\u001b[0m\u001b[0mR\u001b[0m\u001b[0;34m,\u001b[0m\u001b[0mH\u001b[0m \u001b[0;34m=\u001b[0m \u001b[0minitialise_matrices\u001b[0m\u001b[0;34m(\u001b[0m\u001b[0;34m)\u001b[0m\u001b[0;34m\u001b[0m\u001b[0;34m\u001b[0m\u001b[0m\n\u001b[0m\u001b[1;32m      2\u001b[0m \u001b[0;34m\u001b[0m\u001b[0m\n\u001b[1;32m      3\u001b[0m \u001b[0;31m# Create arrays to store kalman estimates\u001b[0m\u001b[0;34m\u001b[0m\u001b[0;34m\u001b[0m\u001b[0;34m\u001b[0m\u001b[0m\n\u001b[1;32m      4\u001b[0m \u001b[0mxpos_est\u001b[0m \u001b[0;34m=\u001b[0m \u001b[0mnp\u001b[0m\u001b[0;34m.\u001b[0m\u001b[0marray\u001b[0m\u001b[0;34m(\u001b[0m\u001b[0;34m[\u001b[0m\u001b[0;34m]\u001b[0m\u001b[0;34m)\u001b[0m\u001b[0;34m\u001b[0m\u001b[0;34m\u001b[0m\u001b[0m\n\u001b[1;32m      5\u001b[0m \u001b[0mv_x_est\u001b[0m \u001b[0;34m=\u001b[0m \u001b[0mnp\u001b[0m\u001b[0;34m.\u001b[0m\u001b[0marray\u001b[0m\u001b[0;34m(\u001b[0m\u001b[0;34m[\u001b[0m\u001b[0;34m]\u001b[0m\u001b[0;34m)\u001b[0m\u001b[0;34m\u001b[0m\u001b[0;34m\u001b[0m\u001b[0m\n",
            "\u001b[0;32m<ipython-input-4-e2e59acfe176>\u001b[0m in \u001b[0;36minitialise_matrices\u001b[0;34m()\u001b[0m\n\u001b[1;32m     23\u001b[0m \u001b[0;34m\u001b[0m\u001b[0m\n\u001b[1;32m     24\u001b[0m \u001b[0;34m\u001b[0m\u001b[0m\n\u001b[0;32m---> 25\u001b[0;31m     \u001b[0;32mreturn\u001b[0m\u001b[0;34m(\u001b[0m\u001b[0mA\u001b[0m\u001b[0;34m,\u001b[0m\u001b[0mB\u001b[0m\u001b[0;34m,\u001b[0m\u001b[0mx\u001b[0m\u001b[0;34m,\u001b[0m\u001b[0mu\u001b[0m\u001b[0;34m,\u001b[0m\u001b[0mP\u001b[0m\u001b[0;34m,\u001b[0m\u001b[0mQ\u001b[0m\u001b[0;34m,\u001b[0m\u001b[0mR\u001b[0m\u001b[0;34m,\u001b[0m\u001b[0mH\u001b[0m\u001b[0;34m)\u001b[0m\u001b[0;34m\u001b[0m\u001b[0;34m\u001b[0m\u001b[0m\n\u001b[0m",
            "\u001b[0;31mNameError\u001b[0m: name 'A' is not defined"
          ]
        }
      ]
    },
    {
      "cell_type": "markdown",
      "metadata": {
        "id": "vUq2RroLGZsz",
        "colab_type": "text"
      },
      "source": [
        "**Part 2: Demonstrate advantages of Kalman filter.**\n",
        "A major advantage of the Kalman filter is the abilty to obtain the model state from a limited set of measurements. In this section we will determine the cannonball position from the noisy velocity measurements only.\n",
        "\n",
        "In two code cells below replicate the code for initialise_matrices() and also that code to run the Kalman filter. In this case the code (Hint: matrix H and measurements vector z) are to be modified such that only the velocity measurements are applied to the model. As in the previous case the output should show the smooth track of the cannonball. "
      ]
    }
  ]
}